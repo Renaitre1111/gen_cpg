{
 "cells": [
  {
   "cell_type": "code",
   "execution_count": 1,
   "id": "c8966f34",
   "metadata": {},
   "outputs": [],
   "source": [
    "import numpy as np\n",
    "import matplotlib.pyplot as plt\n",
    "from PIL import Image"
   ]
  },
  {
   "cell_type": "code",
   "execution_count": 4,
   "id": "3bc690b9",
   "metadata": {},
   "outputs": [],
   "source": [
    "data = np.load('./data/balanced_data_400_100_4600_100_exp_random_noise_0.0_seed_1.npz')"
   ]
  },
  {
   "cell_type": "code",
   "execution_count": 17,
   "id": "983a7053",
   "metadata": {},
   "outputs": [],
   "source": [
    "images = data[data.files[0]]"
   ]
  },
  {
   "cell_type": "code",
   "execution_count": 19,
   "id": "19042824",
   "metadata": {},
   "outputs": [],
   "source": [
    "num_per_label = 400\n",
    "num_labels = images.shape[0] // num_per_label\n",
    "\n",
    "for label_idx in range(num_labels):\n",
    "    subset = images[label_idx * num_per_label:(label_idx + 1) * num_per_label]\n",
    "    canvas = np.zeros((20 * 32, 20 * 32, 3), dtype=np.uint8)\n",
    "    \n",
    "    for i in range(20):\n",
    "        for j in range(20):\n",
    "            idx = i * 20 + j\n",
    "            canvas[i*32:(i+1)*32, j*32:(j+1)*32, :] = subset[idx]\n",
    "    img = Image.fromarray(canvas)\n",
    "    img.save(f'label_{label_idx}.png')"
   ]
  },
  {
   "cell_type": "code",
   "execution_count": null,
   "id": "9f09978f",
   "metadata": {},
   "outputs": [],
   "source": []
  }
 ],
 "metadata": {
  "kernelspec": {
   "display_name": "PRnet",
   "language": "python",
   "name": "python3"
  },
  "language_info": {
   "codemirror_mode": {
    "name": "ipython",
    "version": 3
   },
   "file_extension": ".py",
   "mimetype": "text/x-python",
   "name": "python",
   "nbconvert_exporter": "python",
   "pygments_lexer": "ipython3",
   "version": "3.7.12"
  }
 },
 "nbformat": 4,
 "nbformat_minor": 5
}
