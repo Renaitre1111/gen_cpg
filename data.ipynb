{
 "cells": [
  {
   "cell_type": "code",
   "execution_count": 6,
   "id": "c26b0b08",
   "metadata": {},
   "outputs": [],
   "source": [
    "import torch\n",
    "import torchvision\n",
    "import numpy as np\n",
    "from collections import Counter"
   ]
  },
  {
   "cell_type": "code",
   "execution_count": 7,
   "id": "fe7cc6c9",
   "metadata": {},
   "outputs": [
    {
     "name": "stdout",
     "output_type": "stream",
     "text": [
      "Files already downloaded and verified\n"
     ]
    }
   ],
   "source": [
    "all_dataset = torchvision.datasets.CIFAR10(root='./data', train=True, download=True, transform=None)   \n",
    "lb_idx = np.load('diffusion_model/label_idx/cifar10/lb_labels_400_100_4600_100_exp_random_noise_0.0_seed_1_idx/lb_labels_400_100_4600_100_exp_random_noise_0.0_seed_1_idx.npy')"
   ]
  },
  {
   "cell_type": "code",
   "execution_count": 8,
   "id": "5d96e890",
   "metadata": {},
   "outputs": [],
   "source": [
    "classes = all_dataset.classes\n",
    "lb_imgs = all_dataset.data[lb_idx]\n",
    "lb_targets = np.array(all_dataset.targets)[lb_idx]"
   ]
  },
  {
   "cell_type": "code",
   "execution_count": 9,
   "id": "a2b9ffb6",
   "metadata": {},
   "outputs": [],
   "source": [
    "counts = np.bincount(lb_targets)"
   ]
  },
  {
   "cell_type": "code",
   "execution_count": 10,
   "id": "472512ad",
   "metadata": {},
   "outputs": [],
   "source": [
    "max_count = np.max(counts)\n",
    "num_to_gens = max_count - counts"
   ]
  },
  {
   "cell_type": "code",
   "execution_count": 11,
   "id": "a0786034",
   "metadata": {},
   "outputs": [
    {
     "data": {
      "text/plain": [
       "array([  0, 161, 257, 314, 349, 370, 382, 389, 394, 396], dtype=int64)"
      ]
     },
     "execution_count": 11,
     "metadata": {},
     "output_type": "execute_result"
    }
   ],
   "source": [
    "num_to_gens"
   ]
  },
  {
   "cell_type": "code",
   "execution_count": 12,
   "id": "6d821851",
   "metadata": {},
   "outputs": [],
   "source": [
    "def group_imgs_by_label(imgs, labels):\n",
    "    group = []\n",
    "    unique_labels = np.unique(labels)\n",
    "    for lb in unique_labels:\n",
    "        group.append(imgs[labels == lb])\n",
    "    return group"
   ]
  },
  {
   "cell_type": "code",
   "execution_count": 13,
   "id": "a9976364",
   "metadata": {},
   "outputs": [],
   "source": [
    "group = group_imgs_by_label(lb_imgs, lb_targets)"
   ]
  },
  {
   "cell_type": "code",
   "execution_count": 14,
   "id": "be669694",
   "metadata": {},
   "outputs": [
    {
     "data": {
      "text/plain": [
       "(400, 32, 32, 3)"
      ]
     },
     "execution_count": 14,
     "metadata": {},
     "output_type": "execute_result"
    }
   ],
   "source": [
    "group[0].shape"
   ]
  },
  {
   "cell_type": "code",
   "execution_count": null,
   "id": "f81cc320",
   "metadata": {},
   "outputs": [],
   "source": []
  }
 ],
 "metadata": {
  "kernelspec": {
   "display_name": "PRnet",
   "language": "python",
   "name": "python3"
  },
  "language_info": {
   "codemirror_mode": {
    "name": "ipython",
    "version": 3
   },
   "file_extension": ".py",
   "mimetype": "text/x-python",
   "name": "python",
   "nbconvert_exporter": "python",
   "pygments_lexer": "ipython3",
   "version": "3.7.12"
  }
 },
 "nbformat": 4,
 "nbformat_minor": 5
}
